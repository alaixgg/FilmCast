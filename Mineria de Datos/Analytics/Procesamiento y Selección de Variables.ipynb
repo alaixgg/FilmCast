{
 "cells": [
  {
   "cell_type": "markdown",
   "metadata": {},
   "source": [
    "# Licencia Notebook\n",
    "Casting Inteligente: Algoritmos para la selección óptima de actores\n",
    "\n",
    "Copyright (C) 2024  Alaix, Alvarado, Choconta & Martinez\n",
    "\n",
    "Este archivo es parte de FilmCast.\n",
    "\n",
    "FilmCast es software libre: puedes redistribuirlo y/o modificarlo bajo los términos de la Licencia Pública General de GNU tal como fue publicada por la Free Software Foundation, ya sea la versión 3 de la Licencia o cualquier versión posterior.\n",
    "\n",
    "FilmCast se distribuye con la esperanza de que sea útil, pero SIN NINGUNA GARANTÍA; ni siquiera la garantía implícita de COMERCIABILIDAD o IDONEIDAD PARA UN PROPÓSITO PARTICULAR. Consulta la Licencia Pública General de GNU para más detalles.\n",
    "\n",
    "Deberías haber recibido una copia de la Licencia Pública General de GNU junto con FilmCast. Si no, consulta https://www.gnu.org/licenses/.\n",
    "\n",
    "<img src=\"https://upload.wikimedia.org/wikipedia/commons/thumb/9/93/GPLv3_Logo.svg/1920px-GPLv3_Logo.svg.png\" alt=\"GPL\" width=\"400\" height=\"200\">\n",
    "\n",
    "# Licencia Dataset\n",
    "\n",
    "Copyright (C) Anthony Therrien [Kaggle](https://www.kaggle.com/datasets/anthonytherrien/a-synthetic-journey-through-10000-actor-profiles/data).\n",
    "\n",
    "Bajo la licencia CC BY-SA 4.0: Attribution-ShareAlike 4.0 International\n",
    "\n",
    "<img src=\"https://upload.wikimedia.org/wikipedia/commons/thumb/e/e5/CC_BY-SA_icon.svg/1200px-CC_BY-SA_icon.svg.png\" alt=\"CC\" width=\"380\" height=\"125\">"
   ]
  }
 ],
 "metadata": {
  "language_info": {
   "name": "python"
  }
 },
 "nbformat": 4,
 "nbformat_minor": 2
}
