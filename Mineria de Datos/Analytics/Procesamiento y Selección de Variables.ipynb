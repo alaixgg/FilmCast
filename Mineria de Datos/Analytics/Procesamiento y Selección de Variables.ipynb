{
 "cells": [
  {
   "cell_type": "markdown",
   "metadata": {},
   "source": [
    "# Licencia Notebook\n",
    "Casting Inteligente: Algoritmos para la selección óptima de actores\n",
    "\n",
    "Copyright (C) 2024  Alaix, Alvarado, Choconta & Martinez\n",
    "\n",
    "Este archivo es parte de FilmCast.\n",
    "\n",
    "FilmCast es software libre: puedes redistribuirlo y/o modificarlo bajo los términos de la Licencia Pública General de GNU tal como fue publicada por la Free Software Foundation, ya sea la versión 3 de la Licencia o cualquier versión posterior.\n",
    "\n",
    "FilmCast se distribuye con la esperanza de que sea útil, pero SIN NINGUNA GARANTÍA; ni siquiera la garantía implícita de COMERCIABILIDAD o IDONEIDAD PARA UN PROPÓSITO PARTICULAR. Consulta la Licencia Pública General de GNU para más detalles.\n",
    "\n",
    "Deberías haber recibido una copia de la Licencia Pública General de GNU junto con FilmCast. Si no, consulta https://www.gnu.org/licenses/.\n",
    "\n",
    "<img src=\"https://upload.wikimedia.org/wikipedia/commons/thumb/9/93/GPLv3_Logo.svg/1920px-GPLv3_Logo.svg.png\" alt=\"GPL\" width=\"400\" height=\"200\">\n",
    "\n",
    "# Licencia Dataset\n",
    "\n",
    "Copyright (C) Anthony Therrien [Kaggle](https://www.kaggle.com/datasets/anthonytherrien/a-synthetic-journey-through-10000-actor-profiles/data).\n",
    "\n",
    "Bajo la licencia CC BY-SA 4.0: Attribution-ShareAlike 4.0 International\n",
    "\n",
    "<img src=\"https://upload.wikimedia.org/wikipedia/commons/thumb/e/e5/CC_BY-SA_icon.svg/1200px-CC_BY-SA_icon.svg.png\" alt=\"CC\" width=\"380\" height=\"125\">"
   ]
  },
  {
   "cell_type": "markdown",
   "metadata": {},
   "source": [
    "## Importar librerías\n",
    "---"
   ]
  },
  {
   "cell_type": "code",
   "execution_count": 42,
   "metadata": {},
   "outputs": [],
   "source": [
    "from sklearn.preprocessing import OneHotEncoder\n",
    "from sklearn.preprocessing import MinMaxScaler\n",
    "import numpy as np \n",
    "import matplotlib.pyplot as plt\n",
    "import pandas as pd\n"
   ]
  },
  {
   "cell_type": "markdown",
   "metadata": {},
   "source": [
    "## Lectura del Dataset de acuerdo a la estructura de los directorios\n",
    "---"
   ]
  },
  {
   "cell_type": "code",
   "execution_count": 43,
   "metadata": {},
   "outputs": [],
   "source": [
    "df = pd.read_csv('../Datasets/Actores.csv', delimiter=';')\n"
   ]
  },
  {
   "cell_type": "markdown",
   "metadata": {},
   "source": [
    "## Dividir Dataframes con variables categóricas y numéricas\n",
    "\n",
    "Dataframes finales:\n",
    "- `df_cat`: Posee las variables categóricas; `Gender`, `Nationality`, `Genre Specialization`, y, `Education Level`.\n",
    "- `df_num`: Posee las variables numéricas; `Age`, `Years Active`, `Beauty`, `Skill Level`, `Award Wins`, `Media Mentions`, `Social Media Followers`, `Social Media Likes`, `Network Size`, y, `Income`.\n",
    "\n",
    "---"
   ]
  },
  {
   "cell_type": "code",
   "execution_count": 69,
   "metadata": {},
   "outputs": [],
   "source": [
    "df_cat = df[[x for x in df.columns if df.dtypes[x] == 'O' and x != 'Name']]\n",
    "df_num = df[[x for x in df.columns if df.dtypes[x] == 'int64' or df.dtypes[x] == 'float64']]"
   ]
  },
  {
   "cell_type": "markdown",
   "metadata": {},
   "source": [
    "## One Hot-Encoder para variables categóricas\n",
    "---"
   ]
  },
  {
   "cell_type": "code",
   "execution_count": 90,
   "metadata": {},
   "outputs": [],
   "source": [
    "encoder = OneHotEncoder(sparse_output=False)\n"
   ]
  },
  {
   "cell_type": "code",
   "execution_count": 91,
   "metadata": {},
   "outputs": [],
   "source": [
    "encoded_df = encoder.fit_transform(df_cat)\n",
    "nombres = encoder.get_feature_names_out(df_cat.columns)"
   ]
  },
  {
   "cell_type": "code",
   "execution_count": 96,
   "metadata": {},
   "outputs": [],
   "source": [
    "df_OHE = pd.DataFrame(encoded_df, columns=nombres)\n"
   ]
  },
  {
   "cell_type": "markdown",
   "metadata": {},
   "source": [
    "Después de pasar por la función One Hot-Encoder, la cantidad de variables incrementa a 14. Las cuales son:\n",
    "- `Gender_Female`\n",
    "- `Gender_Male`\n",
    "- `Nationality_Canada`\n",
    "- `Nationality_USA`\n",
    "- `Genre Specialization_Action`\n",
    "- `Genre Specialization_Comedy`\n",
    "- `Genre Specialization_Drama`\n",
    "- `Genre Specialization_Horror`\n",
    "- `Genre Specialization_Musical`\n",
    "- `Genre Specialization_Sci-Fi`\n",
    "- `Education Level_College`\n",
    "- `Education Level_Graduate`\n",
    "- `Education Level_High School`\n",
    "- `Education Level_University`"
   ]
  }
 ],
 "metadata": {
  "kernelspec": {
   "display_name": "base",
   "language": "python",
   "name": "python3"
  },
  "language_info": {
   "codemirror_mode": {
    "name": "ipython",
    "version": 3
   },
   "file_extension": ".py",
   "mimetype": "text/x-python",
   "name": "python",
   "nbconvert_exporter": "python",
   "pygments_lexer": "ipython3",
   "version": "3.12.2"
  }
 },
 "nbformat": 4,
 "nbformat_minor": 2
}
