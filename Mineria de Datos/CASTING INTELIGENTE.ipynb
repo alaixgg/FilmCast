{
 "cells": [
  {
   "cell_type": "markdown",
   "id": "102503d0",
   "metadata": {},
   "source": [
    "# Licencia Notebook\n",
    "Casting Inteligente: Algoritmos para la selección óptima de actores\n",
    "\n",
    "Copyright (C) 2024  Alaix, Alvarado, Choconta & Martinez\n",
    "\n",
    "This program is free software: you can redistribute it and/or modify\n",
    "\n",
    "it under the terms of the GNU General Public License as published by\n",
    "\n",
    "the Free Software Foundation, version 2 of the License, or\n",
    "\n",
    "any later version.\n",
    "\n",
    "\n",
    "This program is distributed in the hope that it will be useful,\n",
    "\n",
    "but WITHOUT ANY WARRANTY; without even the implied warranty of\n",
    "\n",
    "MERCHANTABILITY or FITNESS FOR A PARTICULAR PURPOSE.  See the\n",
    "\n",
    "GNU General Public License for more details.\n",
    "\n",
    "You should have received a copy of the GNU General Public License\n",
    "\n",
    "along with this program.  If not, see <https://www.gnu.org/licenses/>.\n",
    "\n",
    "<img src=\"https://upload.wikimedia.org/wikipedia/commons/thumb/9/93/GPLv3_Logo.svg/1920px-GPLv3_Logo.svg.png\" alt=\"GPL\" width=\"400\" height=\"200\">\n",
    "\n",
    "# Licencia Dataset\n",
    "\n",
    "Copyright (C) Anthony Therrien [Kaggle](https://www.kaggle.com/datasets/anthonytherrien/a-synthetic-journey-through-10000-actor-profiles/data).\n",
    "\n",
    "Bajo la licencia CC BY-SA 4.0: Attribution-ShareAlike 4.0 International\n",
    "\n",
    "<img src=\"https://upload.wikimedia.org/wikipedia/commons/thumb/e/e5/CC_BY-SA_icon.svg/1200px-CC_BY-SA_icon.svg.png\" alt=\"CC\" width=\"380\" height=\"125\">"
   ]
  },
  {
   "cell_type": "markdown",
   "id": "ef87ef6d",
   "metadata": {},
   "source": [
    "#  CASTING INTELIGENTE: Algoritmos para la selección óptima de actores\n",
    "***"
   ]
  },
  {
   "cell_type": "markdown",
   "id": "3cdf567a",
   "metadata": {},
   "source": [
    "# Integrantes\n",
    "***"
   ]
  },
  {
   "cell_type": "markdown",
   "id": "24871be7",
   "metadata": {},
   "source": [
    "1. Alvarado Becerra Ludwig\n",
    "2. Alaix Perez Andrés\n",
    "3. Choconta Rojas Daniela\n",
    "4. Martinez Guerrero Juan Jose\n"
   ]
  },
  {
   "cell_type": "markdown",
   "id": "3ee02f2d",
   "metadata": {},
   "source": [
    "# Objetivos\n",
    "***"
   ]
  },
  {
   "cell_type": "markdown",
   "id": "bd3bc52d",
   "metadata": {},
   "source": [
    "## General"
   ]
  },
  {
   "cell_type": "markdown",
   "id": "a1445b5c",
   "metadata": {},
   "source": [
    "Desarrollar una aplicación que integre un modelo que agrupe las variables cualitativas de los actores mediante clusters, con el fin de identificar y mostrar posibles perfiles que se ajusten a los requerimientos especificados por un productor."
   ]
  },
  {
   "cell_type": "markdown",
   "id": "2cdc1a1a",
   "metadata": {},
   "source": [
    "## Específicos"
   ]
  },
  {
   "cell_type": "markdown",
   "id": "89bde4e4",
   "metadata": {},
   "source": [
    "Los objetivos específicos del presente proyecto son:\n",
    "\n",
    "1. Buscar, limpiar y analizar un set de datos que permita categorizar diferentes perfiles de los actores en base a ciertas caracterısticas establecidas.\n",
    "2. Utilizar tecnicas de minerıa de datos como el clustering, para categorizar a los actores en distintos grupos segun caracterısticas clave como experiencia y habilidades.\n",
    "3. Entrenar un modelo que facilite a los productores la busqueda de perfiles de actores, optimizando el proceso de seleccion segun sus necesidades.\n",
    "4. Facilitar la busqueda de talento a traves de un aplicativo estilo academia, donde se muestren las aptitudes de los actores y a su vez, el productor pueda tener un gran personal para seleccionar.cionar.\n"
   ]
  },
  {
   "cell_type": "markdown",
   "id": "3da27dce",
   "metadata": {},
   "source": [
    "# Exploración Inicial del Set de Datos\n",
    "***"
   ]
  },
  {
   "cell_type": "markdown",
   "id": "321a4bb5",
   "metadata": {},
   "source": [
    "1. Cargar las librerías NumPy y Pandas."
   ]
  },
  {
   "cell_type": "code",
   "execution_count": 19,
   "id": "b3c112af",
   "metadata": {},
   "outputs": [],
   "source": [
    "import numpy as np\n",
    "import pandas as pd\n",
    "import matplotlib.pyplot as plt"
   ]
  },
  {
   "cell_type": "markdown",
   "id": "d4959ea2",
   "metadata": {},
   "source": [
    "2. Cargar el set de datos desde el archivo .csv"
   ]
  },
  {
   "cell_type": "code",
   "execution_count": 3,
   "id": "6c60ae43",
   "metadata": {},
   "outputs": [],
   "source": [
    "archivo_csv = 'Actores.csv'\n",
    "df = pd.read_csv(archivo_csv, delimiter=';')\n",
    "perfil = df.to_numpy()"
   ]
  },
  {
   "cell_type": "markdown",
   "id": "fb54a986",
   "metadata": {},
   "source": [
    "3. Explore los primeros 5 registros (o filas) de su set de datos."
   ]
  },
  {
   "cell_type": "code",
   "execution_count": 27,
   "id": "0d485b29",
   "metadata": {},
   "outputs": [
    {
     "data": {
      "text/html": [
       "<div>\n",
       "<style scoped>\n",
       "    .dataframe tbody tr th:only-of-type {\n",
       "        vertical-align: middle;\n",
       "    }\n",
       "\n",
       "    .dataframe tbody tr th {\n",
       "        vertical-align: top;\n",
       "    }\n",
       "\n",
       "    .dataframe thead th {\n",
       "        text-align: right;\n",
       "    }\n",
       "</style>\n",
       "<table border=\"1\" class=\"dataframe\">\n",
       "  <thead>\n",
       "    <tr style=\"text-align: right;\">\n",
       "      <th></th>\n",
       "      <th>Name</th>\n",
       "      <th>Age</th>\n",
       "      <th>Gender</th>\n",
       "      <th>Nationality</th>\n",
       "      <th>Years Active</th>\n",
       "      <th>Genre Specialization</th>\n",
       "      <th>Beauty</th>\n",
       "      <th>Skill Level</th>\n",
       "      <th>Education Level</th>\n",
       "      <th>Award Wins</th>\n",
       "      <th>Media Mentions</th>\n",
       "      <th>Social Media Followers</th>\n",
       "      <th>Social Media Likes</th>\n",
       "      <th>Network Size</th>\n",
       "      <th>Income</th>\n",
       "    </tr>\n",
       "  </thead>\n",
       "  <tbody>\n",
       "    <tr>\n",
       "      <th>0</th>\n",
       "      <td>Anthony Vaughn</td>\n",
       "      <td>19</td>\n",
       "      <td>Female</td>\n",
       "      <td>USA</td>\n",
       "      <td>1</td>\n",
       "      <td>Comedy</td>\n",
       "      <td>9.56</td>\n",
       "      <td>8.24</td>\n",
       "      <td>University</td>\n",
       "      <td>7</td>\n",
       "      <td>52</td>\n",
       "      <td>15678</td>\n",
       "      <td>4914</td>\n",
       "      <td>22</td>\n",
       "      <td>434056.09</td>\n",
       "    </tr>\n",
       "    <tr>\n",
       "      <th>1</th>\n",
       "      <td>Justin Osborn</td>\n",
       "      <td>48</td>\n",
       "      <td>Male</td>\n",
       "      <td>USA</td>\n",
       "      <td>19</td>\n",
       "      <td>Drama</td>\n",
       "      <td>7.88</td>\n",
       "      <td>9.61</td>\n",
       "      <td>College</td>\n",
       "      <td>10</td>\n",
       "      <td>37</td>\n",
       "      <td>18420</td>\n",
       "      <td>5378</td>\n",
       "      <td>30</td>\n",
       "      <td>1188216.47</td>\n",
       "    </tr>\n",
       "    <tr>\n",
       "      <th>2</th>\n",
       "      <td>Sandra Kim</td>\n",
       "      <td>49</td>\n",
       "      <td>Male</td>\n",
       "      <td>USA</td>\n",
       "      <td>23</td>\n",
       "      <td>Sci-Fi</td>\n",
       "      <td>7.43</td>\n",
       "      <td>9.76</td>\n",
       "      <td>College</td>\n",
       "      <td>12</td>\n",
       "      <td>46</td>\n",
       "      <td>17382</td>\n",
       "      <td>5033</td>\n",
       "      <td>23</td>\n",
       "      <td>1730313.22</td>\n",
       "    </tr>\n",
       "    <tr>\n",
       "      <th>3</th>\n",
       "      <td>Mark Hahn</td>\n",
       "      <td>41</td>\n",
       "      <td>Female</td>\n",
       "      <td>USA</td>\n",
       "      <td>15</td>\n",
       "      <td>Sci-Fi</td>\n",
       "      <td>8.08</td>\n",
       "      <td>15.55</td>\n",
       "      <td>Graduate</td>\n",
       "      <td>9</td>\n",
       "      <td>42</td>\n",
       "      <td>16742</td>\n",
       "      <td>5005</td>\n",
       "      <td>25</td>\n",
       "      <td>818967.94</td>\n",
       "    </tr>\n",
       "    <tr>\n",
       "      <th>4</th>\n",
       "      <td>Julie Brown</td>\n",
       "      <td>38</td>\n",
       "      <td>Male</td>\n",
       "      <td>USA</td>\n",
       "      <td>19</td>\n",
       "      <td>Action</td>\n",
       "      <td>6.04</td>\n",
       "      <td>9.74</td>\n",
       "      <td>University</td>\n",
       "      <td>11</td>\n",
       "      <td>38</td>\n",
       "      <td>13428</td>\n",
       "      <td>4662</td>\n",
       "      <td>22</td>\n",
       "      <td>974068.97</td>\n",
       "    </tr>\n",
       "  </tbody>\n",
       "</table>\n",
       "</div>"
      ],
      "text/plain": [
       "             Name  Age  Gender Nationality  Years Active Genre Specialization  \\\n",
       "0  Anthony Vaughn   19  Female         USA             1               Comedy   \n",
       "1   Justin Osborn   48    Male         USA            19                Drama   \n",
       "2      Sandra Kim   49    Male         USA            23               Sci-Fi   \n",
       "3       Mark Hahn   41  Female         USA            15               Sci-Fi   \n",
       "4     Julie Brown   38    Male         USA            19               Action   \n",
       "\n",
       "   Beauty  Skill Level Education Level  Award Wins  Media Mentions  \\\n",
       "0    9.56         8.24      University           7              52   \n",
       "1    7.88         9.61         College          10              37   \n",
       "2    7.43         9.76         College          12              46   \n",
       "3    8.08        15.55        Graduate           9              42   \n",
       "4    6.04         9.74      University          11              38   \n",
       "\n",
       "   Social Media Followers  Social Media Likes  Network Size      Income  \n",
       "0                   15678                4914            22   434056.09  \n",
       "1                   18420                5378            30  1188216.47  \n",
       "2                   17382                5033            23  1730313.22  \n",
       "3                   16742                5005            25   818967.94  \n",
       "4                   13428                4662            22   974068.97  "
      ]
     },
     "execution_count": 27,
     "metadata": {},
     "output_type": "execute_result"
    }
   ],
   "source": [
    "df.head(5)"
   ]
  },
  {
   "cell_type": "markdown",
   "id": "954b2479",
   "metadata": {},
   "source": [
    "4. Explore los últimos registros (o filas) de su set de datos."
   ]
  },
  {
   "cell_type": "code",
   "execution_count": 28,
   "id": "b2246de4",
   "metadata": {},
   "outputs": [
    {
     "data": {
      "text/html": [
       "<div>\n",
       "<style scoped>\n",
       "    .dataframe tbody tr th:only-of-type {\n",
       "        vertical-align: middle;\n",
       "    }\n",
       "\n",
       "    .dataframe tbody tr th {\n",
       "        vertical-align: top;\n",
       "    }\n",
       "\n",
       "    .dataframe thead th {\n",
       "        text-align: right;\n",
       "    }\n",
       "</style>\n",
       "<table border=\"1\" class=\"dataframe\">\n",
       "  <thead>\n",
       "    <tr style=\"text-align: right;\">\n",
       "      <th></th>\n",
       "      <th>Name</th>\n",
       "      <th>Age</th>\n",
       "      <th>Gender</th>\n",
       "      <th>Nationality</th>\n",
       "      <th>Years Active</th>\n",
       "      <th>Genre Specialization</th>\n",
       "      <th>Beauty</th>\n",
       "      <th>Skill Level</th>\n",
       "      <th>Education Level</th>\n",
       "      <th>Award Wins</th>\n",
       "      <th>Media Mentions</th>\n",
       "      <th>Social Media Followers</th>\n",
       "      <th>Social Media Likes</th>\n",
       "      <th>Network Size</th>\n",
       "      <th>Income</th>\n",
       "    </tr>\n",
       "  </thead>\n",
       "  <tbody>\n",
       "    <tr>\n",
       "      <th>12484</th>\n",
       "      <td>Christopher Romero</td>\n",
       "      <td>46</td>\n",
       "      <td>Male</td>\n",
       "      <td>USA</td>\n",
       "      <td>19</td>\n",
       "      <td>Comedy</td>\n",
       "      <td>5.79</td>\n",
       "      <td>13.63</td>\n",
       "      <td>University</td>\n",
       "      <td>13</td>\n",
       "      <td>35</td>\n",
       "      <td>16560</td>\n",
       "      <td>5285</td>\n",
       "      <td>26</td>\n",
       "      <td>1415564.10</td>\n",
       "    </tr>\n",
       "    <tr>\n",
       "      <th>12485</th>\n",
       "      <td>Joshua Holmes</td>\n",
       "      <td>29</td>\n",
       "      <td>Female</td>\n",
       "      <td>USA</td>\n",
       "      <td>11</td>\n",
       "      <td>Drama</td>\n",
       "      <td>7.59</td>\n",
       "      <td>14.89</td>\n",
       "      <td>University</td>\n",
       "      <td>9</td>\n",
       "      <td>40</td>\n",
       "      <td>16762</td>\n",
       "      <td>5266</td>\n",
       "      <td>18</td>\n",
       "      <td>472303.27</td>\n",
       "    </tr>\n",
       "    <tr>\n",
       "      <th>12486</th>\n",
       "      <td>James Johnson</td>\n",
       "      <td>38</td>\n",
       "      <td>Male</td>\n",
       "      <td>USA</td>\n",
       "      <td>12</td>\n",
       "      <td>Action</td>\n",
       "      <td>5.57</td>\n",
       "      <td>6.93</td>\n",
       "      <td>Graduate</td>\n",
       "      <td>7</td>\n",
       "      <td>30</td>\n",
       "      <td>13249</td>\n",
       "      <td>4505</td>\n",
       "      <td>24</td>\n",
       "      <td>564631.95</td>\n",
       "    </tr>\n",
       "    <tr>\n",
       "      <th>12487</th>\n",
       "      <td>Michael Rogers</td>\n",
       "      <td>20</td>\n",
       "      <td>Female</td>\n",
       "      <td>Canada</td>\n",
       "      <td>2</td>\n",
       "      <td>Drama</td>\n",
       "      <td>7.15</td>\n",
       "      <td>6.66</td>\n",
       "      <td>Graduate</td>\n",
       "      <td>6</td>\n",
       "      <td>39</td>\n",
       "      <td>17489</td>\n",
       "      <td>5249</td>\n",
       "      <td>23</td>\n",
       "      <td>350355.41</td>\n",
       "    </tr>\n",
       "    <tr>\n",
       "      <th>12488</th>\n",
       "      <td>Jeffrey Williams</td>\n",
       "      <td>59</td>\n",
       "      <td>Male</td>\n",
       "      <td>USA</td>\n",
       "      <td>17</td>\n",
       "      <td>Action</td>\n",
       "      <td>5.46</td>\n",
       "      <td>8.98</td>\n",
       "      <td>High School</td>\n",
       "      <td>11</td>\n",
       "      <td>48</td>\n",
       "      <td>19163</td>\n",
       "      <td>5605</td>\n",
       "      <td>31</td>\n",
       "      <td>1242619.92</td>\n",
       "    </tr>\n",
       "  </tbody>\n",
       "</table>\n",
       "</div>"
      ],
      "text/plain": [
       "                     Name  Age  Gender Nationality  Years Active  \\\n",
       "12484  Christopher Romero   46    Male         USA            19   \n",
       "12485       Joshua Holmes   29  Female         USA            11   \n",
       "12486       James Johnson   38    Male         USA            12   \n",
       "12487      Michael Rogers   20  Female      Canada             2   \n",
       "12488    Jeffrey Williams   59    Male         USA            17   \n",
       "\n",
       "      Genre Specialization  Beauty  Skill Level Education Level  Award Wins  \\\n",
       "12484               Comedy    5.79        13.63      University          13   \n",
       "12485                Drama    7.59        14.89      University           9   \n",
       "12486               Action    5.57         6.93        Graduate           7   \n",
       "12487                Drama    7.15         6.66        Graduate           6   \n",
       "12488               Action    5.46         8.98     High School          11   \n",
       "\n",
       "       Media Mentions  Social Media Followers  Social Media Likes  \\\n",
       "12484              35                   16560                5285   \n",
       "12485              40                   16762                5266   \n",
       "12486              30                   13249                4505   \n",
       "12487              39                   17489                5249   \n",
       "12488              48                   19163                5605   \n",
       "\n",
       "       Network Size      Income  \n",
       "12484            26  1415564.10  \n",
       "12485            18   472303.27  \n",
       "12486            24   564631.95  \n",
       "12487            23   350355.41  \n",
       "12488            31  1242619.92  "
      ]
     },
     "execution_count": 28,
     "metadata": {},
     "output_type": "execute_result"
    }
   ],
   "source": [
    "df.tail(5)"
   ]
  },
  {
   "cell_type": "markdown",
   "id": "2387cdc5",
   "metadata": {},
   "source": [
    "5. ¿Cuántos registros tiene su set de datos?"
   ]
  },
  {
   "cell_type": "code",
   "execution_count": 6,
   "id": "44d0227b",
   "metadata": {},
   "outputs": [
    {
     "name": "stdout",
     "output_type": "stream",
     "text": [
      "El set de datos tiene 12489 registros.\n"
     ]
    }
   ],
   "source": [
    "num_filas = perfil.shape[0]\n",
    "print(f\"El set de datos tiene {num_filas} registros.\")"
   ]
  },
  {
   "cell_type": "markdown",
   "id": "21e68439",
   "metadata": {},
   "source": [
    "6. ¿Cuántos atributos tiene su set de datos?"
   ]
  },
  {
   "cell_type": "code",
   "execution_count": 7,
   "id": "bcd0e7bb",
   "metadata": {},
   "outputs": [
    {
     "name": "stdout",
     "output_type": "stream",
     "text": [
      "Index(['Name', 'Age', 'Gender', 'Nationality', 'Years Active',\n",
      "       'Genre Specialization', 'Beauty', 'Skill Level', 'Education Level',\n",
      "       'Award Wins', 'Media Mentions', 'Social Media Followers',\n",
      "       'Social Media Likes', 'Network Size', 'Income'],\n",
      "      dtype='object')\n",
      "\n",
      "El set de datos tiene 15 columnas.\n"
     ]
    }
   ],
   "source": [
    "print(df.columns)\n",
    "num_columnas = perfil.shape[1]\n",
    "print(f\"\\nEl set de datos tiene {num_columnas} columnas.\")"
   ]
  },
  {
   "cell_type": "markdown",
   "id": "ffc8c766",
   "metadata": {},
   "source": [
    "7. ¿De que tipo es cada atributo de su set de datos?"
   ]
  },
  {
   "cell_type": "code",
   "execution_count": 8,
   "id": "a1ae79ac-a5f2-4123-bc3a-62e02a6daeb7",
   "metadata": {},
   "outputs": [
    {
     "name": "stdout",
     "output_type": "stream",
     "text": [
      "Name                       object\n",
      "Age                         int64\n",
      "Gender                     object\n",
      "Nationality                object\n",
      "Years Active                int64\n",
      "Genre Specialization       object\n",
      "Beauty                    float64\n",
      "Skill Level               float64\n",
      "Education Level            object\n",
      "Award Wins                  int64\n",
      "Media Mentions              int64\n",
      "Social Media Followers      int64\n",
      "Social Media Likes          int64\n",
      "Network Size                int64\n",
      "Income                    float64\n",
      "dtype: object\n"
     ]
    }
   ],
   "source": [
    "print(df.dtypes)"
   ]
  },
  {
   "cell_type": "markdown",
   "id": "a1b2d5c1",
   "metadata": {},
   "source": [
    "8. ¿Cuáles atributos son categóricos y cuáles númericos en su set de datos?"
   ]
  },
  {
   "cell_type": "markdown",
   "id": "6391afd2-7992-4839-bc7a-c63e3917f397",
   "metadata": {},
   "source": [
    "Nuestros atributos categoricos son  aquellos que contienen información que puede clasificarse en categorías como el genero(femenino o masculino), la nacionalidad(USA,Canada), el genero de pelicula en el que se especializan(Drama,Acion,Ciencia Ficcion,Musical,...), el nivel de educación (Univesitario,College,Escuela secundaria,Graduado) y el nombre(no tienen un valor numérico o una ordenación intrínseca que se pueda medir o clasificar de forma cuantitativa)\n",
    "\n",
    "De la misma manera nuestros atributos numericos son aquellos en la que la información puede expresarse como un número, como la edad, los años activo, la belleza, nivel de habilidad, premios recibidos, numero de menciones en los medios, numero de seguidores en las redes sociales, cantidad de me gusta en las redes sociales, el tamaño de la red e ingresos.ero."
   ]
  },
  {
   "cell_type": "code",
   "execution_count": 9,
   "id": "543aafeb-19d4-4576-9bcd-bfcb27a07ffe",
   "metadata": {},
   "outputs": [
    {
     "name": "stdout",
     "output_type": "stream",
     "text": [
      "Atributos categóricos:\n",
      "['Name', 'Gender', 'Nationality', 'Genre Specialization', 'Education Level']\n",
      "\n",
      "Atributos numéricos:\n",
      "['Age', 'Years Active', 'Beauty', 'Skill Level', 'Award Wins', 'Media Mentions', 'Social Media Followers', 'Social Media Likes', 'Network Size', 'Income']\n"
     ]
    }
   ],
   "source": [
    "tipo_datos = df.dtypes\n",
    "categóricos = tipo_datos[tipo_datos == 'object'].index.tolist()\n",
    "numéricos = tipo_datos[tipo_datos != 'object'].index.tolist()\n",
    "\n",
    "print(\"Atributos categóricos:\")\n",
    "print(categóricos)\n",
    "\n",
    "print(\"\\nAtributos numéricos:\")\n",
    "print(numéricos)"
   ]
  },
  {
   "cell_type": "markdown",
   "id": "6ee0a49b",
   "metadata": {},
   "source": [
    "9. ¿Cuáles atributos son discretos y cuáles son continuos en su set de datos?"
   ]
  },
  {
   "cell_type": "markdown",
   "id": "400dcef0-b557-4817-8802-b318e08f4af5",
   "metadata": {},
   "source": [
    "Los atributos discretos son aquellos que toman un número finito o contable de valores y estos generalmente son enteros o categorías que no se pueden dividir en fracciones más pequeñas, en nuestro caso  el `nombre`(cadena de texto categórica), la `edad`(número entero), el `genero`(Female y Male), `Nacionalidad`(USA y Canada), `años activo`(número entero), `Genero en el que se especializa`('Comedy', 'Drama', etc.), `nivel educativo`(University,College, Graduate,High School), `Award Wins`(número entero), `Media Mentions`(número entero), `Social Media Followers`(número entero), `Network Size`(número entero), `Social Media Likes`(número entero).\n",
    "\n",
    "Los atributos continuos son aquellos que pueden tomar cualquier valor en un rango, generalmente con posibilidad de tener valores decimales como en este caso los atributos `Beauty`(se mide en una escala de habilidad con valores intermedios), `Skill Level`(se mide en una escala de habilidad con valores intermedios), `Income`(cualquier valor en un rango y no se limita a enteros)."
   ]
  },
  {
   "cell_type": "markdown",
   "id": "e18eab60",
   "metadata": {},
   "source": [
    "10. ¿Qué tipo de set de datos usted(es) tiene(n) para el desarrollo de su proyecto? Justifique su respuesta."
   ]
  },
  {
   "cell_type": "markdown",
   "id": "7590a95d",
   "metadata": {},
   "source": [
    "Este *dataset* proviene de [Kaggle](https://www.kaggle.com/datasets/anthonytherrien/a-synthetic-journey-through-10000-actor-profiles/data) bajo una licencia pública, permitiendo su modificación, adaptación, y contruir nuevo conocimiento a partir de estos datos. Entrando en materia de datos, se tienen 15 columnas o variables que se presentan a continuación, indicando su tipo de dato, si es categórico, numérico, discreto, o continuo.\n",
    "\n",
    "- `Name` | String | Categórico.\n",
    "- `Age` | Entero | Numérico Discreto.\n",
    "- `Gender` | String | Categórico.\n",
    "- `Nationality` | String | Categórico.\n",
    "- `Years Active` | Entero | Numérico Discreto.\n",
    "- `Genre Specialization` | String | Categórico.\n",
    "- `Beauty` | Flotante | Numérico Continuo.\n",
    "- `Skill Level` | Flotante | Numérico Continuo.\n",
    "- `Education Level` | String | Categórico.\n",
    "- `Award Wins` | Entero | Numérico Discreto.\n",
    "- `Media Mentions` | Entero | Numérico Discreto.\n",
    "- `Social Media Followers` | Entero | Numérico Discreto.\n",
    "- `Social Media Likes` | Entero | Numérico Discreto.\n",
    "- `Network Size` | Entero | Numérico Discreto.\n",
    "- `Income` | Flotante | Numérico Continuo.\n",
    "\n",
    "También posee un total de 12489 registros, todo en formato `.csv`. En conclusión, se posee un *dataset* con datos categóricos, numéricos discretos y continuos. Teniendo una diversidad en los datos."
   ]
  },
  {
   "cell_type": "markdown",
   "id": "f05c295f",
   "metadata": {},
   "source": [
    "# Algunas Estadísticas del Set de Datos\n",
    "***"
   ]
  },
  {
   "cell_type": "markdown",
   "id": "009c892e",
   "metadata": {},
   "source": [
    "Realice el siguiente análisis por lo menos para **5 atributos númericos** que contenga su set de datos.\n",
    "\n",
    "1. Calcule el valor promedio.\n",
    "2. Calcule la mediana.\n",
    "3. Identifique si el atributo puede o no tener valores atípicos (justifique su respuesta).\n",
    "4. Calcule el valor mínimo.\n",
    "5. Calcule el valor máximo.\n",
    "6. Calcule el primer cuartil.\n",
    "7. Calcule el tercer cuartil.\n",
    "8. Calcule el rango intercuatil.\n",
    "9. Calcule la desviación estándar.\n",
    "10. Realice una pequeña reseña o análisis con los hallazgo obtenidos después de la exploración estadítica del atributo.\n",
    "\n",
    "Sea(n) meticuloso(s) en sus cálculos y análisis.\n",
    "<br><br>\n",
    "\n",
    "**Nota: Su set de datos por lo menos debe tener 2 o más atributos númericos, de lo contrario debe pensar en cambiar el set de datos u obtener información nueva a partir de los atributos existentes en él para realizar esta sección.**\n",
    "<br><br>"
   ]
  },
  {
   "cell_type": "markdown",
   "id": "33a632bc",
   "metadata": {},
   "source": [
    "## Análisis de los Atributos Númericos\n",
    "***"
   ]
  },
  {
   "cell_type": "markdown",
   "id": "0cbc1947",
   "metadata": {},
   "source": [
    "### Years Active"
   ]
  },
  {
   "cell_type": "code",
   "execution_count": 22,
   "id": "6ea031d9",
   "metadata": {},
   "outputs": [
    {
     "name": "stdout",
     "output_type": "stream",
     "text": [
      "Promedio de años activos: 12.404916326367204\n",
      "Mediana de años activos: 13.0\n"
     ]
    },
    {
     "data": {
      "image/png": "[encoded data removed]",
      "text/plain": [
       "<Figure size 640x480 with 1 Axes>"
      ]
     },
     "metadata": {},
     "output_type": "display_data"
    },
    {
     "name": "stdout",
     "output_type": "stream",
     "text": [
      "Minimo de años activos: 0\n",
      "Máximo de años activos: 30\n",
      "Primer cuartil : 10.0\n",
      "Tercer cuartil : 15.0\n",
      "Rango intercuartil : 5.0\n",
      "Desviación estándar de los años activos: 4.607368639793933\n"
     ]
    }
   ],
   "source": [
    "# Seleccione aquí la columna para el análisis.\n",
    "años = df['Years Active']\n",
    "\n",
    "# Calcule aquí el valor promedio.\n",
    "promedio_años = años.mean()\n",
    "print(\"Promedio de años activos:\", promedio_años)\n",
    "\n",
    "# Calcule aquí la mediana.\n",
    "mediana_años = años.median()\n",
    "print(\"Mediana de años activos:\", mediana_años)\n",
    "\n",
    "# Identifique aquí si el atributo puede o no tener valores atípicos\n",
    "plt.boxplot(años)\n",
    "plt.title('Distribución de los años activos de los actores')\n",
    "plt.show()\n",
    "\n",
    "# Calcule aquí el valor mínimo.\n",
    "años_min = años.min()\n",
    "print(\"Minimo de años activos:\", años_min)\n",
    "\n",
    "# Calcule aquí el valor máximo.\n",
    "maximo_años = años.max()\n",
    "print(\"Máximo de años activos:\", maximo_años)\n",
    "\n",
    "# Calcule aquí el primer cuartil,el tercer cuartil y el rango intercuartil.\n",
    "primer_cuartil=np.percentile(años,25)\n",
    "tercer_cuartil=np.percentile(años,75)\n",
    "rango_intercuartil=tercer_cuartil-primer_cuartil\n",
    "\n",
    "print(\"Primer cuartil :\", primer_cuartil)\n",
    "print(\"Tercer cuartil :\", tercer_cuartil)\n",
    "print(\"Rango intercuartil :\", rango_intercuartil)\n",
    "\n",
    "# Calcule aquí la desviación estándar.\n",
    "desviacion_estandar = años.std()\n",
    "print(\"Desviación estándar de los años activos:\", desviacion_estandar)\n"
   ]
  },
  {
   "cell_type": "markdown",
   "id": "f6c8c6e8",
   "metadata": {},
   "source": [
    "Para los años activos de los actores, el 50% poseen 13 años o menos, a su vez, el otro 50% tiene más de estos años activo en la industria. Los datos se encuentran en un rango de 0 a 30 años, contando con un *dataset* de actores sin experiencia a otros con mucha. La mayoría de los actores poseen entre 10 y 15 años de experiencia. Sin embargo, existen valores atípicos, actores que poseen más de 22 años, y otros con menos de 4."
   ]
  },
  {
   "cell_type": "markdown",
   "id": "f6e6992f",
   "metadata": {},
   "source": [
    "### EDAD"
   ]
  },
  {
   "cell_type": "code",
   "execution_count": 21,
   "id": "6400c21e",
   "metadata": {},
   "outputs": [
    {
     "name": "stdout",
     "output_type": "stream",
     "text": [
      "Promedio de edad: 36.83233245255825\n",
      "Mediana de edad: 36.0\n"
     ]
    },
    {
     "data": {
      "image/png": "[encoded data removed]",
      "text/plain": [
       "<Figure size 640x480 with 1 Axes>"
      ]
     },
     "metadata": {},
     "output_type": "display_data"
    },
    {
     "name": "stdout",
     "output_type": "stream",
     "text": [
      "Edad mínima: 18\n",
      "Edad máxima: 69\n",
      "Primer cuartil : 29.0\n",
      "Tercer cuartil : 44.0\n",
      "Rango intercuartil : 15.0\n",
      "Desviación estándar de la edad: 10.074581362741656\n"
     ]
    }
   ],
   "source": [
    "# Seleccione aquí la columna para el análisis.\n",
    "edad = df['Age']\n",
    "\n",
    "# Calcule aquí el valor promedio.\n",
    "promedio_edad = edad.mean()\n",
    "print(\"Promedio de edad:\", promedio_edad)\n",
    "\n",
    "# Calcule aquí la mediana.\n",
    "mediana_edad = edad.median()\n",
    "print(\"Mediana de edad:\", mediana_edad)\n",
    "\n",
    "# Identifique aquí si el atributo puede o no tener valores atípicos\n",
    "plt.boxplot(edad)\n",
    "plt.title('Distribución de la edad de los actores')\n",
    "plt.show()\n",
    "\n",
    "# Calcule aquí el valor mínimo.\n",
    "edad_min = edad.min()\n",
    "print(\"Edad mínima:\", edad_min)\n",
    "\n",
    "# Calcule aquí el valor máximo.\n",
    "maximo_edad = edad.max()\n",
    "print(\"Edad máxima:\", maximo_edad)\n",
    "\n",
    "# Calcule aquí el primer cuartil,el tercer cuartil y el rango intercuartil.\n",
    "primer_cuartil=np.percentile(edad,25)\n",
    "tercer_cuartil=np.percentile(edad,75)\n",
    "rango_intercuartil=tercer_cuartil-primer_cuartil\n",
    "\n",
    "print(\"Primer cuartil :\", primer_cuartil)\n",
    "print(\"Tercer cuartil :\", tercer_cuartil)\n",
    "print(\"Rango intercuartil :\", rango_intercuartil)\n",
    "\n",
    "# Calcule aquí la desviación estándar.\n",
    "desviacion_estandar = edad.std()\n",
    "print(\"Desviación estándar de la edad:\", desviacion_estandar)"
   ]
  },
  {
   "cell_type": "markdown",
   "id": "9ef86549",
   "metadata": {},
   "source": [
    "Para la edad de los actores, el 50% poseen 36 años o menos, a su vez, el otro 50% tiene más de esta edad. Los datos se encuentran en un rango de 18 a 69 años, la mayoría de los actores poseen entre 29 y 44 años. Sin embargo, existen valores atípicos, actores que poseen más de 65 años."
   ]
  },
  {
   "attachments": {},
   "cell_type": "markdown",
   "id": "12635540",
   "metadata": {},
   "source": [
    "### Award Wins\n"
   ]
  },
  {
   "cell_type": "code",
   "execution_count": 23,
   "id": "3535a1a2",
   "metadata": {},
   "outputs": [
    {
     "name": "stdout",
     "output_type": "stream",
     "text": [
      "Promedio de premios ganados: 8.241492513411803\n",
      "Mediana de premios ganados: 8.0\n"
     ]
    },
    {
     "data": {
      "image/png": "[encoded data removed]",
      "text/plain": [
       "<Figure size 640x480 with 1 Axes>"
      ]
     },
     "metadata": {},
     "output_type": "display_data"
    },
    {
     "name": "stdout",
     "output_type": "stream",
     "text": [
      "Mínimo de premios ganados: 2\n",
      "Máximo de premios ganados: 18\n",
      "Primer cuartil : 7.0\n",
      "Tercer cuartil : 10.0\n",
      "Rango intercuartil : 3.0\n",
      "Desviación estándar de los premios ganados: 2.3094182736386877\n"
     ]
    }
   ],
   "source": [
    "# Seleccione aquí la columna para el análisis.\n",
    "wins = df['Award Wins']\n",
    "\n",
    "# Calcule aquí el valor promedio.\n",
    "promedio_wins = wins.mean()\n",
    "print(\"Promedio de premios ganados:\", promedio_wins)\n",
    "\n",
    "# Calcule aquí la mediana.\n",
    "mediana_wins = wins.median()\n",
    "print(\"Mediana de premios ganados:\", mediana_wins)\n",
    "\n",
    "# Identifique aquí si el atributo puede o no tener valores atípicos\n",
    "plt.boxplot(wins)\n",
    "plt.title('Distribución de premios ganados')\n",
    "plt.show()\n",
    "\n",
    "# Calcule aquí el valor mínimo.\n",
    "minimo_wins = wins.min()\n",
    "print(\"Mínimo de premios ganados:\", minimo_wins)\n",
    "\n",
    "# Calcule aquí el valor máximo.\n",
    "maximo_wins = wins.max()\n",
    "print(\"Máximo de premios ganados:\", maximo_wins)\n",
    "\n",
    "# Calcule aquí el primer cuartil,el tercer cuartil y el rango intercuartil.\n",
    "primer_cuartil=np.percentile(wins,25)\n",
    "tercer_cuartil=np.percentile(wins,75)\n",
    "rango_intercuartil=tercer_cuartil-primer_cuartil\n",
    "\n",
    "print(\"Primer cuartil :\", primer_cuartil)\n",
    "print(\"Tercer cuartil :\", tercer_cuartil)\n",
    "print(\"Rango intercuartil :\", rango_intercuartil)\n",
    "\n",
    "\n",
    "# Calcule aquí la desviación estándar.\n",
    "desviacion_estandar = wins.std()\n",
    "print(\"Desviación estándar de los premios ganados:\", desviacion_estandar)"
   ]
  },
  {
   "cell_type": "markdown",
   "id": "b9b912c8",
   "metadata": {},
   "source": [
    "Para la cantidad de premios ganados, el 50% de los actores poseen 8 premios o menos, a su vez, el otro 50% tiene más de este número. Los datos se encuentran en un rango de 2 a 18 premios, lo que quiere decir que todos los actores del *dataset* tienen algún tipo de premio, la mayoría de los actores poseen entre 7 y 10 premios. Sin embargo, existen valores atípicos, actores que poseen más de 14 premios y otros que tienen menos de 3."
   ]
  },
  {
   "cell_type": "markdown",
   "id": "81ffb6dd",
   "metadata": {},
   "source": [
    "### Media Mentions"
   ]
  },
  {
   "cell_type": "code",
   "execution_count": 25,
   "id": "5a523670",
   "metadata": {},
   "outputs": [
    {
     "name": "stdout",
     "output_type": "stream",
     "text": [
      "Promedio de menciones en medios: 38.15277444150853\n",
      "Mediana de menciones en medios: 38.0\n"
     ]
    },
    {
     "data": {
      "image/png": "[encoded data removed]",
      "text/plain": [
       "<Figure size 640x480 with 1 Axes>"
      ]
     },
     "metadata": {},
     "output_type": "display_data"
    },
    {
     "name": "stdout",
     "output_type": "stream",
     "text": [
      "Mínimo de menciones en medios: 17\n",
      "Máximo de menciones en medios: 66\n",
      "Primer cuartil : 33.0\n",
      "Tercer cuartil : 43.0\n",
      "Rango intercuartil : 10.0\n",
      "Desviación estándar de las menciones en medios: 7.164023367551682\n"
     ]
    }
   ],
   "source": [
    "# Seleccione aquí la columna para el análisis.\n",
    "mentions = df['Media Mentions']\n",
    "\n",
    "# Calcule aquí el valor promedio.\n",
    "promedio_mentions = mentions.mean()\n",
    "print(\"Promedio de menciones en medios:\", promedio_mentions)\n",
    "\n",
    "# Calcule aquí la mediana.\n",
    "mediana_mentions = mentions.median()\n",
    "print(\"Mediana de menciones en medios:\", mediana_mentions)\n",
    "\n",
    "# Identifique aquí si el atributo puede o no tener valores atípicos\n",
    "plt.boxplot(mentions)\n",
    "plt.title('Distribución de las menciones en redes sociales')\n",
    "plt.show()\n",
    "\n",
    "# Calcule aquí el valor mínimo.\n",
    "minimo_mentions = mentions.min()\n",
    "print(\"Mínimo de menciones en medios:\", minimo_mentions)\n",
    "\n",
    "# Calcule aquí el valor máximo.\n",
    "maximo_mentions = mentions.max()\n",
    "print(\"Máximo de menciones en medios:\", maximo_mentions)\n",
    "\n",
    "# Calcule aquí el primer cuartil,el tercer cuartil y el rango intercuartil.\n",
    "primer_cuartil=np.percentile(mentions,25)\n",
    "tercer_cuartil=np.percentile(mentions,75)\n",
    "rango_intercuartil=tercer_cuartil-primer_cuartil\n",
    "\n",
    "print(\"Primer cuartil :\", primer_cuartil)\n",
    "print(\"Tercer cuartil :\", tercer_cuartil)\n",
    "print(\"Rango intercuartil :\", rango_intercuartil)\n",
    "\n",
    "# Calcule aquí la desviación estándar.\n",
    "desviacion_estandar = mentions.std()\n",
    "print(\"Desviación estándar de las menciones en medios:\", desviacion_estandar)\n"
   ]
  },
  {
   "cell_type": "markdown",
   "id": "41a3e068",
   "metadata": {},
   "source": [
    "Para las menciones en medios, el 50% de los actores poseen 38 menciones o menos, a su vez, el otro 50% tiene más de este número. Los datos se encuentran en un rango de 17 a 66 menciones en medios, la mayoría de los actores poseen entre 33 y 43 menciones en medios. Sin embargo, existen valores atípicos, actores que poseen más de 60 menciones y otros que tienen menos de 20."
   ]
  },
  {
   "cell_type": "markdown",
   "id": "ea6b5304",
   "metadata": {},
   "source": [
    "### Social Media Followers"
   ]
  },
  {
   "cell_type": "code",
   "execution_count": 26,
   "id": "64652dd2",
   "metadata": {},
   "outputs": [
    {
     "name": "stdout",
     "output_type": "stream",
     "text": [
      "Promedio de seguidores en redes sociales: 16583.698694851468\n",
      "Mediana de seguidores en redes sociales: 16518.0\n"
     ]
    },
    {
     "data": {
      "image/png": "[encoded data removed]",
      "text/plain": [
       "<Figure size 640x480 with 1 Axes>"
      ]
     },
     "metadata": {},
     "output_type": "display_data"
    },
    {
     "name": "stdout",
     "output_type": "stream",
     "text": [
      "Mínimo de seguidores en redes sociales: 10507\n",
      "Máximo de seguidores en redes sociales: 24976\n",
      "Primer cuartil : 15484.0\n",
      "Tercer cuartil : 17675.0\n",
      "Rango intercuartil : 2191.0\n",
      "Desviación estándar de los seguidores en redes sociales: 1610.9462192349927\n"
     ]
    }
   ],
   "source": [
    "# Seleccione aquí la columna para el análisis.\n",
    "followers = df['Social Media Followers']\n",
    "\n",
    "# Calcule aquí el valor promedio.\n",
    "promedio_followers = followers.mean()\n",
    "print(\"Promedio de seguidores en redes sociales:\", promedio_followers)\n",
    "\n",
    "# Calcule aquí la mediana.\n",
    "mediana_followers = followers.median()\n",
    "print(\"Mediana de seguidores en redes sociales:\", mediana_followers)\n",
    "\n",
    "# Identifique aquí si el atributo puede o no tener valores atípicos\n",
    "plt.boxplot(followers)\n",
    "plt.title('Distribución de seguidores en redes sociales de los actores')\n",
    "plt.show()\n",
    "\n",
    "# Calcule aquí el valor mínimo.\n",
    "minimo_followers = followers.min()\n",
    "print(\"Mínimo de seguidores en redes sociales:\", minimo_followers)\n",
    "\n",
    "# Calcule aquí el valor máximo.\n",
    "maximo_followers = followers.max()\n",
    "print(\"Máximo de seguidores en redes sociales:\", maximo_followers)\n",
    "\n",
    "# Calcule aquí el primer cuartil,el tercer cuartil y el rango intercuartil.\n",
    "primer_cuartil=np.percentile(followers,25)\n",
    "tercer_cuartil=np.percentile(followers,75)\n",
    "rango_intercuartil=tercer_cuartil-primer_cuartil\n",
    "\n",
    "print(\"Primer cuartil :\", primer_cuartil)\n",
    "print(\"Tercer cuartil :\", tercer_cuartil)\n",
    "print(\"Rango intercuartil :\", rango_intercuartil)\n",
    "\n",
    "# Calcule aquí la desviación estándar.\n",
    "desviacion_estandar = followers.std()\n",
    "print(\"Desviación estándar de los seguidores en redes sociales:\", desviacion_estandar)\n"
   ]
  },
  {
   "cell_type": "markdown",
   "id": "e579290d",
   "metadata": {},
   "source": [
    "Para los seguidores, el 50% de los actores poseen 16518 seguidores o menos, a su vez, el otro 50% tiene más de este número. Los datos se encuentran en un rango de 10507 a 24976 seguidores, la mayoría de los actores poseen seguidores entre 15484 y 17675. Sin embargo, existen valores atípicos, actores que poseen más de 24000 seguidores y otros que tienen menos de 12000."
   ]
  }
 ],
 "metadata": {
  "kernelspec": {
   "display_name": "Python 3 (ipykernel)",
   "language": "python",
   "name": "python3"
  },
  "language_info": {
   "codemirror_mode": {
    "name": "ipython",
    "version": 3
   },
   "file_extension": ".py",
   "mimetype": "text/x-python",
   "name": "python",
   "nbconvert_exporter": "python",
   "pygments_lexer": "ipython3",
   "version": "3.12.4"
  }
 },
 "nbformat": 4,
 "nbformat_minor": 5
}
